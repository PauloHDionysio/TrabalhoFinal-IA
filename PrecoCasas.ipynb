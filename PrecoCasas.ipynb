{
 "cells": [
  {
   "cell_type": "markdown",
   "metadata": {},
   "source": [
    "# Trabalho Final de Inteligência Artificial\n",
    "### Aluno: Paulo Henrique Dionysio | RA: 221026169\n",
    "\n",
    "### Previsão de preços de casas usando redes neurais"
   ]
  },
  {
   "cell_type": "markdown",
   "metadata": {},
   "source": [
    "## Importação de Bibliotecas Necessárias"
   ]
  },
  {
   "cell_type": "code",
   "execution_count": 18,
   "metadata": {},
   "outputs": [],
   "source": [
    "# Importação das bibliotecas necessárias\n",
    "import pandas as pd  # Manipulação de dados tabulares\n",
    "import numpy as np  # Operações numéricas\n",
    "import tensorflow as tf  # Construção e treinamento de redes neurais\n",
    "from sklearn.preprocessing import MaxAbsScaler  # Normalização de dados\n",
    "from sklearn.impute import SimpleImputer  # Tratamento de valores ausentes\n",
    "from sklearn.model_selection import train_test_split  # Separação dos dados em treino e validação\n",
    "import plotly.express as px  # Visualização de gráficos interativos\n"
   ]
  },
  {
   "cell_type": "markdown",
   "metadata": {},
   "source": [
    "## Função para Carregar Dados"
   ]
  },
  {
   "cell_type": "code",
   "execution_count": 19,
   "metadata": {},
   "outputs": [],
   "source": [
    "# Função para carregar e concatenar os dados de treino e teste\n",
    "def carregar_dados(treino_file, teste_file):\n",
    "    \"\"\"\n",
    "    Carrega os dados de treino e teste de arquivos CSV.\n",
    "    Args:\n",
    "        treino_file: Caminho para o arquivo de treino.\n",
    "        teste_file: Caminho para o arquivo de teste.\n",
    "    Returns:\n",
    "        Tupla contendo (dados_treino, dados_teste, dados_concat).\n",
    "    \"\"\"\n",
    "    dados_treino = pd.read_csv('train.csv')\n",
    "    dados_teste = pd.read_csv('test.csv')\n",
    "    dados = pd.concat([dados_treino, dados_teste], sort=False)\n",
    "    return dados_treino, dados_teste, dados"
   ]
  },
  {
   "cell_type": "markdown",
   "metadata": {},
   "source": [
    "## Função de Pré-Processamento"
   ]
  },
  {
   "cell_type": "code",
   "execution_count": null,
   "metadata": {},
   "outputs": [],
   "source": [
    "# Função para realizar o pré-processamento dos dados\n",
    "def preprocessar_dados(dados, dados_treino, scaler, imputer):\n",
    "    \"\"\"\n",
    "    Pré-processa os dados de entrada, incluindo normalização e imputação.\n",
    "    Args:\n",
    "        dados: Dados combinados de treino e teste.\n",
    "        dados_treino: Dados originais de treino.\n",
    "        scaler: Objeto de normalização.\n",
    "        imputer: Objeto para tratar valores ausentes.\n",
    "    Returns:\n",
    "        Dados pré-processados para treino, validação e teste.\n",
    "    \"\"\"\n",
    "    # Transformação de variáveis categóricas em dummies\n",
    "    cat_cols = ['MSZoning', 'Street', 'Alley', 'LotShape', 'LandContour', 'Utilities',\n",
    "                'LotConfig', 'LandSlope', 'Neighborhood', 'Condition1', 'Condition2',\n",
    "                'BldgType', 'HouseStyle', 'RoofStyle', 'RoofMatl', 'Exterior1st',\n",
    "                'Exterior2nd', 'MasVnrType', 'ExterQual', 'ExterCond', 'Foundation',\n",
    "                'BsmtQual', 'BsmtCond', 'BsmtExposure', 'BsmtFinType1', 'BsmtFinType2',\n",
    "                'Heating', 'HeatingQC', 'CentralAir', 'Electrical', 'KitchenQual',\n",
    "                'Functional', 'FireplaceQu', 'GarageType', 'GarageFinish', 'GarageQual',\n",
    "                'GarageCond', 'PavedDrive', 'PoolQC', 'MiscFeature', 'SaleType',\n",
    "                'SaleCondition', 'Fence'] # Variáveis categóricas\n",
    "    juntos_num = pd.get_dummies(dados, columns=cat_cols) # Transformação em dummies\n",
    "    \n",
    "    # Separação dos dados em treino e teste\n",
    "    treino_num = juntos_num.iloc[:len(dados_treino), :]\n",
    "    teste_num = juntos_num.iloc[len(dados_treino):, :]\n",
    "\n",
    "    X = treino_num.drop([\"Id\", \"SalePrice\"], axis=1)\n",
    "    y = treino_num[\"SalePrice\"]\n",
    "    \n",
    "    # Divisão dos dados de treino em treino e validação\n",
    "    Xtr, Xval, ytr, yval = train_test_split(X, y, train_size=0.5, random_state=0)\n",
    "\n",
    "    # Normalização e imputação\n",
    "    Xtr = scaler.fit_transform(imputer.fit_transform(Xtr))\n",
    "    Xval = scaler.transform(imputer.transform(Xval))\n",
    "    ytr = ytr.values\n",
    "    yval = yval.values\n",
    "\n",
    "    return Xtr, Xval, ytr, yval, treino_num, teste_num\n"
   ]
  },
  {
   "cell_type": "markdown",
   "metadata": {},
   "source": [
    "## Carregamento e Pré-Processamento"
   ]
  },
  {
   "cell_type": "code",
   "execution_count": null,
   "metadata": {},
   "outputs": [],
   "source": [
    "# Configuração de caminhos para arquivos\n",
    "treino_file = \"caminho_para_train.csv\"\n",
    "teste_file = \"caminho_para_test.csv\"\n",
    "\n",
    "# Carregamento dos dados\n",
    "dados_treino, dados_teste, dados = carregar_dados(treino_file, teste_file)\n",
    "\n",
    "# Configuração de objetos para normalização e imputação\n",
    "scaler = MaxAbsScaler() # Normalização\n",
    "imputer = SimpleImputer(strategy=\"median\") # Imputação\n",
    "\n",
    "# Pré-processamento\n",
    "Xtr, Xval, ytr, yval, treino_num, teste_num = preprocessar_dados(\n",
    "    dados, dados_treino, scaler, imputer\n",
    ")\n"
   ]
  },
  {
   "cell_type": "markdown",
   "metadata": {},
   "source": [
    "## Treinamento do Modelo"
   ]
  },
  {
   "cell_type": "code",
   "execution_count": null,
   "metadata": {},
   "outputs": [
    {
     "name": "stdout",
     "output_type": "stream",
     "text": [
      "Epoch 1/100\n",
      "\u001b[1m730/730\u001b[0m \u001b[32m━━━━━━━━━━━━━━━━━━━━\u001b[0m\u001b[37m\u001b[0m \u001b[1m2s\u001b[0m 1ms/step - loss: 60.7033 - val_loss: 7.7311\n",
      "Epoch 2/100\n",
      "\u001b[1m730/730\u001b[0m \u001b[32m━━━━━━━━━━━━━━━━━━━━\u001b[0m\u001b[37m\u001b[0m \u001b[1m1s\u001b[0m 1ms/step - loss: 5.4447 - val_loss: 1.4321\n",
      "Epoch 3/100\n",
      "\u001b[1m730/730\u001b[0m \u001b[32m━━━━━━━━━━━━━━━━━━━━\u001b[0m\u001b[37m\u001b[0m \u001b[1m1s\u001b[0m 1ms/step - loss: 1.1131 - val_loss: 0.3187\n",
      "Epoch 4/100\n",
      "\u001b[1m730/730\u001b[0m \u001b[32m━━━━━━━━━━━━━━━━━━━━\u001b[0m\u001b[37m\u001b[0m \u001b[1m1s\u001b[0m 1ms/step - loss: 0.3374 - val_loss: 0.1256\n",
      "Epoch 5/100\n",
      "\u001b[1m730/730\u001b[0m \u001b[32m━━━━━━━━━━━━━━━━━━━━\u001b[0m\u001b[37m\u001b[0m \u001b[1m1s\u001b[0m 1ms/step - loss: 0.1614 - val_loss: 0.1013\n",
      "Epoch 6/100\n",
      "\u001b[1m730/730\u001b[0m \u001b[32m━━━━━━━━━━━━━━━━━━━━\u001b[0m\u001b[37m\u001b[0m \u001b[1m1s\u001b[0m 1ms/step - loss: 0.1535 - val_loss: 0.0949\n",
      "Epoch 7/100\n",
      "\u001b[1m730/730\u001b[0m \u001b[32m━━━━━━━━━━━━━━━━━━━━\u001b[0m\u001b[37m\u001b[0m \u001b[1m1s\u001b[0m 1ms/step - loss: 0.1471 - val_loss: 0.0862\n",
      "Epoch 8/100\n",
      "\u001b[1m730/730\u001b[0m \u001b[32m━━━━━━━━━━━━━━━━━━━━\u001b[0m\u001b[37m\u001b[0m \u001b[1m1s\u001b[0m 1ms/step - loss: 0.1271 - val_loss: 0.0770\n",
      "Epoch 9/100\n",
      "\u001b[1m730/730\u001b[0m \u001b[32m━━━━━━━━━━━━━━━━━━━━\u001b[0m\u001b[37m\u001b[0m \u001b[1m1s\u001b[0m 1ms/step - loss: 0.1109 - val_loss: 0.0667\n",
      "Epoch 10/100\n",
      "\u001b[1m730/730\u001b[0m \u001b[32m━━━━━━━━━━━━━━━━━━━━\u001b[0m\u001b[37m\u001b[0m \u001b[1m1s\u001b[0m 1ms/step - loss: 0.1034 - val_loss: 0.0595\n",
      "Epoch 11/100\n",
      "\u001b[1m730/730\u001b[0m \u001b[32m━━━━━━━━━━━━━━━━━━━━\u001b[0m\u001b[37m\u001b[0m \u001b[1m1s\u001b[0m 1ms/step - loss: 0.0964 - val_loss: 0.0499\n",
      "Epoch 12/100\n",
      "\u001b[1m730/730\u001b[0m \u001b[32m━━━━━━━━━━━━━━━━━━━━\u001b[0m\u001b[37m\u001b[0m \u001b[1m1s\u001b[0m 1ms/step - loss: 0.0809 - val_loss: 0.0437\n",
      "Epoch 13/100\n",
      "\u001b[1m730/730\u001b[0m \u001b[32m━━━━━━━━━━━━━━━━━━━━\u001b[0m\u001b[37m\u001b[0m \u001b[1m1s\u001b[0m 1ms/step - loss: 0.0726 - val_loss: 0.0428\n",
      "Epoch 14/100\n",
      "\u001b[1m730/730\u001b[0m \u001b[32m━━━━━━━━━━━━━━━━━━━━\u001b[0m\u001b[37m\u001b[0m \u001b[1m1s\u001b[0m 1ms/step - loss: 0.0596 - val_loss: 0.0364\n"
     ]
    }
   ],
   "source": [
    "# Configuração do modelo de rede neural\n",
    "tf.random.set_seed(2) # Define a semente aleatória para reprodução dos resultados.\n",
    "\n",
    "inp = tf.keras.layers.Input((Xtr.shape[1],)) # Define a camada de entrada da rede neural.\n",
    "hid1 = tf.keras.layers.Dense(100, activation=\"relu\")(inp) # Adiciona a primeira camada densa (fully connected). (cada neurônio recebe a entrada de todos os neurônios da camada anterior)\n",
    "drop = tf.keras.layers.Dropout(0.5)(hid1) # Aplica o método de Dropout para reduzir o overfitting.\n",
    "hid2 = tf.keras.layers.Dense(50, activation=\"relu\")(drop) # Adiciona a segunda camada densa.\n",
    "hid3 = tf.keras.layers.Dense(25, activation=\"relu\")(hid2) # Adiciona a terceira camada densa.\n",
    "out = tf.keras.layers.Dense(1, activation=\"relu\")(hid3) # Adiciona a camada de saída.\n",
    "\n",
    "mdl = tf.keras.Model(inp, out) # Define o modelo da rede neural.\n",
    "mdl.compile(loss=\"mean_squared_logarithmic_error\", optimizer=\"adam\") # Compila o modelo.\n",
    "es = tf.keras.callbacks.EarlyStopping(\n",
    "    monitor=\"val_loss\", min_delta=0.1, patience=10, mode=\"min\", restore_best_weights=True\n",
    ") # Define o método de Early Stopping para evitar o overfitting.\n",
    "\n",
    "# Treinamento\n",
    "history = mdl.fit(Xtr, ytr, validation_data=(Xval, yval), epochs=100, shuffle=True, batch_size=1, callbacks=[es]) \n"
   ]
  },
  {
   "cell_type": "markdown",
   "metadata": {},
   "source": [
    "## Visualização dos Resultados"
   ]
  },
  {
   "cell_type": "code",
   "execution_count": 23,
   "metadata": {},
   "outputs": [
    {
     "data": {
      "application/vnd.plotly.v1+json": {
       "config": {
        "plotlyServerURL": "https://plot.ly"
       },
       "data": [
        {
         "hovertemplate": "variable=wide_variable_0<br>Épocas=%{x}<br>value=%{y}<extra></extra>",
         "legendgroup": "wide_variable_0",
         "line": {
          "color": "#000001",
          "dash": "solid"
         },
         "marker": {
          "symbol": "circle"
         },
         "mode": "lines",
         "name": "wide_variable_0",
         "orientation": "v",
         "showlegend": true,
         "type": "scatter",
         "x": [
          0,
          1,
          2,
          3,
          4,
          5,
          6,
          7,
          8,
          9,
          10,
          11,
          12,
          13
         ],
         "xaxis": "x",
         "y": [
          32.52450180053711,
          3.867187738418579,
          0.8513801693916321,
          0.2778468430042267,
          0.16337329149246216,
          0.15291273593902588,
          0.1476200371980667,
          0.13131436705589294,
          0.1155395582318306,
          0.10257963091135025,
          0.09153233468532562,
          0.07767795771360397,
          0.06760136038064957,
          0.06178157404065132
         ],
         "yaxis": "y"
        },
        {
         "hovertemplate": "variable=wide_variable_1<br>Épocas=%{x}<br>value=%{y}<extra></extra>",
         "legendgroup": "wide_variable_1",
         "line": {
          "color": "#000002",
          "dash": "solid"
         },
         "marker": {
          "symbol": "circle"
         },
         "mode": "lines",
         "name": "wide_variable_1",
         "orientation": "v",
         "showlegend": true,
         "type": "scatter",
         "x": [
          0,
          1,
          2,
          3,
          4,
          5,
          6,
          7,
          8,
          9,
          10,
          11,
          12,
          13
         ],
         "xaxis": "x",
         "y": [
          7.7310566902160645,
          1.4320619106292725,
          0.31870919466018677,
          0.12555818259716034,
          0.10130424797534943,
          0.09487105906009674,
          0.0862053856253624,
          0.07700680941343307,
          0.06674732267856598,
          0.05945311114192009,
          0.04994671046733856,
          0.043659161776304245,
          0.04283972829580307,
          0.03635285422205925
         ],
         "yaxis": "y"
        }
       ],
       "layout": {
        "legend": {
         "title": {
          "text": "variable"
         },
         "tracegroupgap": 0
        },
        "template": {
         "data": {
          "candlestick": [
           {
            "decreasing": {
             "line": {
              "color": "#000033"
             }
            },
            "increasing": {
             "line": {
              "color": "#000032"
             }
            },
            "type": "candlestick"
           }
          ],
          "contour": [
           {
            "colorscale": [
             [
              0,
              "#000011"
             ],
             [
              0.1111111111111111,
              "#000012"
             ],
             [
              0.2222222222222222,
              "#000013"
             ],
             [
              0.3333333333333333,
              "#000014"
             ],
             [
              0.4444444444444444,
              "#000015"
             ],
             [
              0.5555555555555556,
              "#000016"
             ],
             [
              0.6666666666666666,
              "#000017"
             ],
             [
              0.7777777777777778,
              "#000018"
             ],
             [
              0.8888888888888888,
              "#000019"
             ],
             [
              1,
              "#000020"
             ]
            ],
            "type": "contour"
           }
          ],
          "contourcarpet": [
           {
            "colorscale": [
             [
              0,
              "#000011"
             ],
             [
              0.1111111111111111,
              "#000012"
             ],
             [
              0.2222222222222222,
              "#000013"
             ],
             [
              0.3333333333333333,
              "#000014"
             ],
             [
              0.4444444444444444,
              "#000015"
             ],
             [
              0.5555555555555556,
              "#000016"
             ],
             [
              0.6666666666666666,
              "#000017"
             ],
             [
              0.7777777777777778,
              "#000018"
             ],
             [
              0.8888888888888888,
              "#000019"
             ],
             [
              1,
              "#000020"
             ]
            ],
            "type": "contourcarpet"
           }
          ],
          "heatmap": [
           {
            "colorscale": [
             [
              0,
              "#000011"
             ],
             [
              0.1111111111111111,
              "#000012"
             ],
             [
              0.2222222222222222,
              "#000013"
             ],
             [
              0.3333333333333333,
              "#000014"
             ],
             [
              0.4444444444444444,
              "#000015"
             ],
             [
              0.5555555555555556,
              "#000016"
             ],
             [
              0.6666666666666666,
              "#000017"
             ],
             [
              0.7777777777777778,
              "#000018"
             ],
             [
              0.8888888888888888,
              "#000019"
             ],
             [
              1,
              "#000020"
             ]
            ],
            "type": "heatmap"
           }
          ],
          "histogram2d": [
           {
            "colorscale": [
             [
              0,
              "#000011"
             ],
             [
              0.1111111111111111,
              "#000012"
             ],
             [
              0.2222222222222222,
              "#000013"
             ],
             [
              0.3333333333333333,
              "#000014"
             ],
             [
              0.4444444444444444,
              "#000015"
             ],
             [
              0.5555555555555556,
              "#000016"
             ],
             [
              0.6666666666666666,
              "#000017"
             ],
             [
              0.7777777777777778,
              "#000018"
             ],
             [
              0.8888888888888888,
              "#000019"
             ],
             [
              1,
              "#000020"
             ]
            ],
            "type": "histogram2d"
           }
          ],
          "icicle": [
           {
            "textfont": {
             "color": "white"
            },
            "type": "icicle"
           }
          ],
          "sankey": [
           {
            "textfont": {
             "color": "#000036"
            },
            "type": "sankey"
           }
          ],
          "scatter": [
           {
            "marker": {
             "line": {
              "width": 0
             }
            },
            "type": "scatter"
           }
          ],
          "table": [
           {
            "cells": {
             "fill": {
              "color": "#000038"
             },
             "font": {
              "color": "#000037"
             },
             "line": {
              "color": "#000039"
             }
            },
            "header": {
             "fill": {
              "color": "#000040"
             },
             "font": {
              "color": "#000036"
             },
             "line": {
              "color": "#000039"
             }
            },
            "type": "table"
           }
          ],
          "waterfall": [
           {
            "connector": {
             "line": {
              "color": "#000036",
              "width": 2
             }
            },
            "decreasing": {
             "marker": {
              "color": "#000033"
             }
            },
            "increasing": {
             "marker": {
              "color": "#000032"
             }
            },
            "totals": {
             "marker": {
              "color": "#000034"
             }
            },
            "type": "waterfall"
           }
          ]
         },
         "layout": {
          "coloraxis": {
           "colorscale": [
            [
             0,
             "#000011"
            ],
            [
             0.1111111111111111,
             "#000012"
            ],
            [
             0.2222222222222222,
             "#000013"
            ],
            [
             0.3333333333333333,
             "#000014"
            ],
            [
             0.4444444444444444,
             "#000015"
            ],
            [
             0.5555555555555556,
             "#000016"
            ],
            [
             0.6666666666666666,
             "#000017"
            ],
            [
             0.7777777777777778,
             "#000018"
            ],
            [
             0.8888888888888888,
             "#000019"
            ],
            [
             1,
             "#000020"
            ]
           ]
          },
          "colorscale": {
           "diverging": [
            [
             0,
             "#000021"
            ],
            [
             0.1,
             "#000022"
            ],
            [
             0.2,
             "#000023"
            ],
            [
             0.3,
             "#000024"
            ],
            [
             0.4,
             "#000025"
            ],
            [
             0.5,
             "#000026"
            ],
            [
             0.6,
             "#000027"
            ],
            [
             0.7,
             "#000028"
            ],
            [
             0.8,
             "#000029"
            ],
            [
             0.9,
             "#000030"
            ],
            [
             1,
             "#000031"
            ]
           ],
           "sequential": [
            [
             0,
             "#000011"
            ],
            [
             0.1111111111111111,
             "#000012"
            ],
            [
             0.2222222222222222,
             "#000013"
            ],
            [
             0.3333333333333333,
             "#000014"
            ],
            [
             0.4444444444444444,
             "#000015"
            ],
            [
             0.5555555555555556,
             "#000016"
            ],
            [
             0.6666666666666666,
             "#000017"
            ],
            [
             0.7777777777777778,
             "#000018"
            ],
            [
             0.8888888888888888,
             "#000019"
            ],
            [
             1,
             "#000020"
            ]
           ],
           "sequentialminus": [
            [
             0,
             "#000011"
            ],
            [
             0.1111111111111111,
             "#000012"
            ],
            [
             0.2222222222222222,
             "#000013"
            ],
            [
             0.3333333333333333,
             "#000014"
            ],
            [
             0.4444444444444444,
             "#000015"
            ],
            [
             0.5555555555555556,
             "#000016"
            ],
            [
             0.6666666666666666,
             "#000017"
            ],
            [
             0.7777777777777778,
             "#000018"
            ],
            [
             0.8888888888888888,
             "#000019"
            ],
            [
             1,
             "#000020"
            ]
           ]
          },
          "colorway": [
           "#000001",
           "#000002",
           "#000003",
           "#000004",
           "#000005",
           "#000006",
           "#000007",
           "#000008",
           "#000009",
           "#000010"
          ]
         }
        },
        "title": {
         "text": "Perda de Treinamento vs Validação"
        },
        "xaxis": {
         "anchor": "y",
         "domain": [
          0,
          1
         ],
         "title": {
          "text": "Épocas"
         }
        },
        "yaxis": {
         "anchor": "x",
         "domain": [
          0,
          1
         ],
         "title": {
          "text": "value"
         }
        }
       }
      }
     },
     "metadata": {},
     "output_type": "display_data"
    }
   ],
   "source": [
    "# Gráfico de perda durante o treinamento\n",
    "fig1 = px.line(\n",
    "    x=range(len(history.history[\"loss\"])),\n",
    "    y=[history.history[\"loss\"], history.history[\"val_loss\"]],\n",
    "    labels={\"x\": \"Épocas\", \"y\": \"Perda\"},\n",
    "    title=\"Perda de Treinamento vs Validação\"\n",
    ")\n",
    "fig1.show()\n"
   ]
  },
  {
   "cell_type": "markdown",
   "metadata": {},
   "source": [
    "## Previsões e Análise"
   ]
  },
  {
   "cell_type": "code",
   "execution_count": 24,
   "metadata": {},
   "outputs": [
    {
     "name": "stdout",
     "output_type": "stream",
     "text": [
      "\u001b[1m23/23\u001b[0m \u001b[32m━━━━━━━━━━━━━━━━━━━━\u001b[0m\u001b[37m\u001b[0m \u001b[1m0s\u001b[0m 2ms/step \n"
     ]
    },
    {
     "data": {
      "application/vnd.plotly.v1+json": {
       "config": {
        "plotlyServerURL": "https://plot.ly"
       },
       "data": [
        {
         "hovertemplate": "Reais=%{x}<br>Previstos=%{y}<extra></extra>",
         "legendgroup": "",
         "marker": {
          "color": "#000001",
          "symbol": "circle"
         },
         "mode": "markers",
         "name": "",
         "orientation": "v",
         "showlegend": false,
         "type": "scatter",
         "x": [
          200624,
          133000,
          110000,
          192000,
          88000,
          85000,
          282922,
          141000,
          745000,
          148800,
          208900,
          136905,
          225000,
          123000,
          119200,
          145000,
          190000,
          123600,
          149350,
          155000,
          166000,
          144500,
          110000,
          174000,
          185000,
          168000,
          177500,
          84500,
          320000,
          118500,
          110000,
          213000,
          156000,
          250000,
          372500,
          175000,
          277500,
          112500,
          263000,
          325000,
          243000,
          130000,
          164990,
          280000,
          403000,
          119000,
          125000,
          128200,
          172500,
          84900,
          412500,
          156000,
          167900,
          100000,
          275000,
          123000,
          132000,
          239900,
          139000,
          115000,
          137500,
          135000,
          134450,
          180500,
          193500,
          156500,
          132000,
          224500,
          139000,
          225000,
          188500,
          118000,
          82000,
          392000,
          112000,
          248900,
          134500,
          79500,
          320000,
          158000,
          140000,
          136500,
          107500,
          145000,
          200500,
          185000,
          105000,
          202665,
          186000,
          136000,
          200500,
          190000,
          187500,
          200000,
          172500,
          157000,
          213000,
          185000,
          124500,
          162900,
          260000,
          198500,
          120000,
          159500,
          105900,
          260000,
          143000,
          106500,
          178900,
          127000,
          90350,
          118500,
          190000,
          119900,
          183900,
          155000,
          386250,
          133000,
          193500,
          270000,
          141000,
          146000,
          128500,
          176000,
          214000,
          222000,
          415298,
          187750,
          199900,
          180000,
          206300,
          194000,
          142953,
          182900,
          116050,
          213250,
          139500,
          179000,
          107900,
          175900,
          158500,
          145000,
          217000,
          150500,
          108959,
          165600,
          201000,
          145500,
          319900,
          215000,
          180500,
          367294,
          239000,
          145900,
          161000,
          250000,
          89471,
          230000,
          147000,
          163900,
          97000,
          142000,
          197000,
          129000,
          232000,
          115000,
          175000,
          265000,
          207000,
          181000,
          176000,
          171000,
          196000,
          176000,
          113000,
          139000,
          135000,
          240000,
          112000,
          134000,
          316600,
          170000,
          116000,
          306000,
          82500,
          175000,
          106000,
          194000,
          194201,
          155900,
          138000,
          177000,
          214000,
          148000,
          127000,
          142500,
          80000,
          145000,
          171000,
          122500,
          139000,
          189000,
          120500,
          124000,
          160000,
          200000,
          160000,
          313000,
          275000,
          67000,
          159000,
          251000,
          92900,
          109500,
          385000,
          129000,
          82500,
          301000,
          249700,
          81000,
          187500,
          110000,
          117000,
          128500,
          213490,
          284000,
          230500,
          190000,
          135000,
          152000,
          87500,
          155000,
          115000,
          144000,
          248000,
          132500,
          136000,
          117000,
          82000,
          157500,
          110000,
          181000,
          192500,
          223500,
          181500,
          170000,
          187500,
          185900,
          160000,
          192000,
          181900,
          266000,
          99900,
          438780,
          229456,
          216837,
          110500,
          175900,
          538000,
          160000,
          172500,
          108000,
          131500,
          106250,
          385000,
          370878,
          345000,
          68500,
          250000,
          245350,
          125000,
          234000,
          145000,
          181000,
          104000,
          233000,
          164000,
          219500,
          195000,
          108000,
          149900,
          315000,
          177500,
          140000,
          193879,
          137900,
          118000,
          324000,
          555000,
          136000,
          82500,
          101000,
          314813,
          109500,
          163500,
          271000,
          205000,
          185000,
          160000,
          155000,
          91000,
          131000,
          165400,
          194700,
          155000,
          140000,
          147000,
          194000,
          179540,
          173000,
          109500,
          173733,
          129900,
          119000,
          125500,
          149300,
          305000,
          102000,
          178740,
          129500,
          79900,
          278000,
          118400,
          197000,
          140000,
          226000,
          132500,
          315000,
          224000,
          132500,
          119500,
          215000,
          210000,
          200141,
          185000,
          149900,
          129000,
          184100,
          135000,
          128000,
          374000,
          164000,
          157000,
          215000,
          165000,
          144000,
          125500,
          98300,
          91300,
          135960,
          226700,
          333168,
          114500,
          97000,
          181000,
          465000,
          290000,
          175000,
          235000,
          277000,
          325000,
          178000,
          235000,
          239000,
          85000,
          107500,
          160000,
          145000,
          192140,
          181000,
          380000,
          66500,
          124500,
          124000,
          144000,
          52500,
          217000,
          275000,
          127000,
          262500,
          162000,
          103000,
          137500,
          127500,
          127000,
          91000,
          145000,
          186500,
          221500,
          253293,
          108480,
          127000,
          237500,
          86000,
          141000,
          176000,
          178400,
          173900,
          157000,
          193000,
          335000,
          201000,
          146500,
          86000,
          148000,
          280000,
          112000,
          303477,
          250000,
          244600,
          126000,
          130500,
          241000,
          118500,
          115000,
          129900,
          202500,
          118000,
          335000,
          125000,
          255900,
          342643,
          109008,
          148500,
          132500,
          110000,
          244000,
          115000,
          194500,
          129500,
          167500,
          227875,
          169900,
          241500,
          127500,
          350000,
          227000,
          611657,
          219500,
          173000,
          116500,
          105000,
          60000,
          149500,
          119750,
          158000,
          148000,
          100000,
          214500,
          359100,
          139000,
          204000,
          147000,
          175000,
          137450,
          169990,
          88000,
          126000,
          255000,
          162000,
          185000,
          155000,
          153000,
          97000,
          159500,
          135000,
          214000,
          113000,
          190000,
          240000,
          175000,
          135000,
          115000,
          244000,
          132000,
          83500,
          143500,
          212000,
          232000,
          208900,
          124000,
          167000,
          259000,
          144000,
          137000,
          230000,
          239799,
          184000,
          143000,
          108000,
          266500,
          135000,
          184000,
          198900,
          187500,
          158000,
          154000,
          188000,
          188000,
          108000,
          135500,
          381000,
          83000,
          127500,
          242000,
          179400,
          440000,
          245000,
          116900,
          149000,
          139600,
          437154,
          119500,
          260000,
          134432,
          155000,
          151000,
          173000,
          271000,
          132000,
          239500,
          129000,
          130000,
          130000,
          280000,
          125000,
          139000,
          122000,
          222000,
          163000,
          149000,
          121600,
          144000,
          100000,
          190000,
          272000,
          227000,
          140000,
          136500,
          94750,
          91500,
          185750,
          311872,
          200000,
          180000,
          340000,
          219210,
          133000,
          39300,
          140000,
          153500,
          115000,
          169500,
          179500,
          81000,
          122000,
          150750,
          175500,
          143000,
          213000,
          85000,
          90000,
          128000,
          135000,
          167000,
          276000,
          180500,
          168500,
          143750,
          207000,
          150000,
          173000,
          113000,
          100000,
          119000,
          84500,
          140000,
          195000,
          310000,
          86000,
          210000,
          136900,
          189000,
          224900,
          625000,
          180000,
          289000,
          92000,
          110500,
          102776,
          109900,
          250580,
          165000,
          179600,
          240000,
          140000,
          317000,
          132000,
          165500,
          290000,
          378500,
          158900,
          252000,
          180000,
          248000,
          297000,
          159950,
          174000,
          335000,
          250000,
          153337,
          151000,
          336000,
          125500,
          260000,
          161750,
          148000,
          138000,
          120000,
          128000,
          230000,
          40000,
          318000,
          148000,
          153900,
          165000,
          145000,
          225000,
          117000,
          73000,
          178000,
          279500,
          102000,
          160200,
          128000,
          137500,
          157500,
          325000,
          79900,
          274300,
          184750,
          134900,
          34900,
          235128,
          150000,
          173500,
          190000,
          117000,
          146000,
          159000,
          173000,
          125000,
          239000,
          143900,
          110000,
          315000,
          172785,
          120500,
          130000,
          227000,
          260000,
          183000,
          95000,
          256000,
          125000,
          189000,
          187000,
          232600,
          127500,
          147500,
          138000,
          201800,
          238000,
          126500,
          125000,
          206000,
          281213,
          260400,
          87000,
          179200,
          157000,
          258000,
          122000,
          81000,
          115000,
          145000,
          147000,
          395192,
          157000,
          140000,
          227680,
          133500,
          95000,
          185000,
          160000,
          120000,
          153000,
          147000,
          204000,
          215200,
          254900,
          255500,
          155000,
          269790,
          159895,
          556581,
          236000,
          185500,
          201000,
          179900,
          68400,
          171000,
          150900,
          402000,
          143000,
          187500,
          190000,
          202500,
          197900,
          130000,
          89500,
          200100,
          239000,
          154500,
          193000,
          150000,
          137500,
          147400,
          207500,
          293077
         ],
         "xaxis": "x",
         "y": [
          147130.953125,
          138709.3125,
          138292.46875,
          157677.59375,
          135966.953125,
          123022.9375,
          155027.140625,
          140395.609375,
          170710.03125,
          142930.59375,
          150005.296875,
          144429.640625,
          160475.171875,
          143523.515625,
          142005.859375,
          139785.421875,
          160425.484375,
          134500.203125,
          142568.1875,
          141027.484375,
          134137.234375,
          152443.265625,
          114472.9453125,
          151408.59375,
          152407.65625,
          145078.34375,
          151398.296875,
          116030.9453125,
          155923.15625,
          134615.53125,
          149705.15625,
          161319.453125,
          150662.53125,
          169636.40625,
          162187.390625,
          149831.828125,
          157052.515625,
          138909.8125,
          161683.5625,
          164972.984375,
          146443.671875,
          135575.875,
          154860.046875,
          160392.859375,
          174560.875,
          148877.859375,
          127106.34375,
          134372.640625,
          150299.640625,
          118548.96875,
          170463.796875,
          146260.296875,
          151240.125,
          117350.6484375,
          152957.296875,
          140704.0625,
          132166.1875,
          159720.296875,
          142952.75,
          134851.578125,
          144335.03125,
          142344.953125,
          143852.4375,
          150164.390625,
          158497.328125,
          145870.5625,
          139036.84375,
          147676.40625,
          147965.828125,
          154682.0625,
          161007.484375,
          134116.28125,
          94622.4453125,
          154763.109375,
          129542.953125,
          159701.015625,
          138445.359375,
          128908.4453125,
          164837.609375,
          142146.640625,
          139643.578125,
          146872.78125,
          126088.15625,
          146025.796875,
          131870.3125,
          154464.75,
          136481.515625,
          156639.359375,
          148905.78125,
          139041.796875,
          159662.59375,
          156751.59375,
          150485.984375,
          157301.578125,
          150735.609375,
          147263.734375,
          158127.875,
          146993.59375,
          138476.578125,
          143014.75,
          155743.953125,
          132229.90625,
          133163.5,
          144701.609375,
          137069.875,
          160969.53125,
          151096.859375,
          131833.171875,
          155004.984375,
          128692.125,
          130120.6171875,
          136048.328125,
          154388.328125,
          140444.203125,
          148057.375,
          146513.796875,
          163720.453125,
          139475.15625,
          158479.0625,
          164027.328125,
          137564.15625,
          146661.609375,
          141525.59375,
          154521.671875,
          157531.109375,
          150291.453125,
          155327.765625,
          154333.40625,
          152130.25,
          149953.0625,
          150510.3125,
          153792.96875,
          124079.4453125,
          151693.890625,
          135322.234375,
          148323.828125,
          147993.6875,
          158507.203125,
          133208.625,
          152810.125,
          145895.5625,
          143496.5,
          143732.953125,
          139556.796875,
          130393.4453125,
          155906.96875,
          153041.015625,
          149830.71875,
          156807.21875,
          152617.3125,
          152701.28125,
          158427.046875,
          155764.40625,
          132974.59375,
          142988.140625,
          163220.203125,
          127915.1484375,
          143429.203125,
          129997.578125,
          154863.3125,
          132384.1875,
          139887.40625,
          150474.65625,
          136536.71875,
          163296.53125,
          110227.4765625,
          148306.15625,
          169767.09375,
          156506.125,
          158948.609375,
          145347.9375,
          155821.1875,
          157921.40625,
          148957.546875,
          129746.53125,
          135718.671875,
          141300.125,
          155399.78125,
          125327.2734375,
          142374.796875,
          145263.390625,
          156710.453125,
          130227.7890625,
          163547.984375,
          140917.6875,
          149989.65625,
          138943.53125,
          153665.578125,
          157623.953125,
          154327.265625,
          143932.78125,
          144379.421875,
          157038.75,
          144944.59375,
          135663.84375,
          139603.875,
          131508.546875,
          146902.9375,
          155830.015625,
          144402.859375,
          131696.921875,
          150982.28125,
          134989.046875,
          125817.6640625,
          132040.234375,
          157067.59375,
          152335.546875,
          163368.109375,
          160637.953125,
          112929.4375,
          147977.671875,
          149232.3125,
          110738.390625,
          118932.734375,
          150071.6875,
          135466.5,
          145455.453125,
          158863.5,
          155493.96875,
          114907.28125,
          154878.640625,
          144130.828125,
          131622.15625,
          136062.734375,
          158338.71875,
          168918.9375,
          166769.3125,
          144888.6875,
          140375.5625,
          150958.359375,
          114335.5390625,
          141140.3125,
          120519.703125,
          151683.25,
          152678.625,
          137153.59375,
          136357.71875,
          137607.65625,
          97414.3828125,
          154227.15625,
          133504.5625,
          151621.6875,
          160794.34375,
          165036.40625,
          146209.21875,
          148621.703125,
          142152.5625,
          157240.28125,
          138059.78125,
          155612.421875,
          151029.828125,
          158528.421875,
          123264.4375,
          159197.1875,
          148166.625,
          161381.84375,
          123808.3046875,
          159851.984375,
          154819.203125,
          174839.171875,
          155723.796875,
          135775.78125,
          140315.953125,
          109538.03125,
          153099.5,
          153806.0625,
          162792.59375,
          119375.8359375,
          145475.96875,
          156526.671875,
          134630.578125,
          153522.953125,
          136755.015625,
          143104.96875,
          128287.265625,
          156404.90625,
          139300.59375,
          145752.078125,
          157126.8125,
          128272.703125,
          145669.859375,
          162977.109375,
          143488.546875,
          139337.1875,
          153606.125,
          140122.90625,
          141212.921875,
          150599.875,
          162975.578125,
          127421.03125,
          118575.3984375,
          125098.9453125,
          156084.953125,
          132131.359375,
          138106.734375,
          160031.265625,
          163844.71875,
          153613.484375,
          152401.734375,
          143985.578125,
          134190.109375,
          137416.46875,
          160711.234375,
          157376.09375,
          152347.09375,
          145853.765625,
          141290.015625,
          145635.6875,
          155706.671875,
          149334.0625,
          119233.453125,
          151093.375,
          132059.90625,
          138087.234375,
          140087.5,
          155095.9375,
          168863.5625,
          127042.8359375,
          156899.703125,
          127839.2890625,
          115458.8984375,
          153186.140625,
          132207.640625,
          153482.390625,
          142944.234375,
          161713.421875,
          138211.890625,
          161351.25,
          148184.09375,
          140473.59375,
          134743.40625,
          166072.296875,
          142765.96875,
          154936.703125,
          149412.34375,
          150038.578125,
          142239.5625,
          154999.171875,
          141462.515625,
          140506.375,
          161704.9375,
          147977.203125,
          141340.15625,
          159106.65625,
          149305.15625,
          138551.703125,
          134955.3125,
          119759.96875,
          130583.734375,
          142921.09375,
          152783.359375,
          169817.890625,
          133256.078125,
          118206.953125,
          145558.09375,
          160120.484375,
          166945.828125,
          149418.140625,
          154633.390625,
          147526.453125,
          143122.984375,
          156684.375,
          159868.421875,
          159470.53125,
          118124.734375,
          141808.40625,
          152739.421875,
          137651.421875,
          151320.6875,
          146942.828125,
          167474.8125,
          134703.703125,
          139627.75,
          136788.1875,
          140704.140625,
          103079.3671875,
          152643.6875,
          147588.671875,
          135680.859375,
          156514.140625,
          148154.453125,
          131298.25,
          133464.765625,
          135945.25,
          141541.921875,
          127178.9375,
          135551.390625,
          150722.203125,
          158827.359375,
          163434.984375,
          134653.046875,
          128766.28125,
          150929.875,
          120461.03125,
          137577.265625,
          154553.609375,
          140623.890625,
          153406.171875,
          145436.734375,
          158899.453125,
          165014.6875,
          154182.703125,
          151351.6875,
          130409.75,
          142163.1875,
          163825.296875,
          133350.109375,
          156640.8125,
          159272.21875,
          160876.640625,
          124777.0703125,
          137801.171875,
          152408.703125,
          134288.8125,
          132643.84375,
          137265.8125,
          148174.859375,
          140985.890625,
          162325.15625,
          138421.96875,
          156730.796875,
          161545.734375,
          137766.578125,
          145206.734375,
          141727.578125,
          137206.6875,
          159255.40625,
          135796.875,
          157915.609375,
          137522.203125,
          148878.171875,
          154084.75,
          146544.46875,
          130719.5234375,
          144893.84375,
          163576.71875,
          158562.203125,
          163516.109375,
          166065.0625,
          152393.078125,
          118316.5,
          130235.09375,
          116247.015625,
          149827.265625,
          132082.046875,
          147017.3125,
          146037.71875,
          105105.125,
          135025.859375,
          147847.484375,
          125658.1796875,
          156031.375,
          150482.390625,
          153403.359375,
          143244.15625,
          153580.65625,
          131237.9375,
          126721.3515625,
          164566.234375,
          152342.234375,
          127290.3515625,
          146359.03125,
          135063.375,
          126136.328125,
          143255.9375,
          137008.4375,
          157588.265625,
          140514.359375,
          146900.65625,
          169944.859375,
          147668.328125,
          148557.765625,
          131636.5625,
          162174.875,
          135718.40625,
          137737.03125,
          137319.890625,
          149904.59375,
          154700.71875,
          158727.484375,
          144358.78125,
          135479.390625,
          156991.296875,
          139472.78125,
          136326.5625,
          160877.9375,
          156149.046875,
          157275.25,
          151241.625,
          140175.5,
          150499.75,
          133658.609375,
          149874.671875,
          153237.453125,
          147642.3125,
          145366.90625,
          146883.875,
          155523.609375,
          156129,
          126044.1875,
          142124.203125,
          156748.921875,
          136684.953125,
          123710.9921875,
          145027.84375,
          148869.484375,
          162049.90625,
          164926.609375,
          142295.75,
          136661.421875,
          123666.421875,
          158230.984375,
          139706.953125,
          140497.78125,
          122213.8671875,
          144537.609375,
          147926.640625,
          157151.5,
          169481.671875,
          144893.578125,
          162941.75,
          139368.828125,
          132152.859375,
          131268.828125,
          166844.375,
          132508.046875,
          133802.9375,
          120435.71875,
          155652.875,
          141233.84375,
          149498.921875,
          134985.234375,
          134197,
          128470.6328125,
          149220.328125,
          166226.203125,
          161905.859375,
          133156.328125,
          137100.59375,
          133682.53125,
          130415.28125,
          145005.921875,
          155536.703125,
          149513.5625,
          143787.1875,
          169698.78125,
          159295.78125,
          138105.046875,
          84853.3671875,
          147195.53125,
          146241.0625,
          134678.0625,
          153311.140625,
          145993.703125,
          114148.4140625,
          132339.625,
          140115.796875,
          152856.71875,
          139826.71875,
          164005.875,
          98691.2578125,
          111631.484375,
          135706.078125,
          146197.390625,
          153528.671875,
          160459,
          146732.5625,
          141467.265625,
          141607.203125,
          141367.125,
          144415.53125,
          151456.578125,
          142150.609375,
          141960.5625,
          139777.65625,
          132649.84375,
          154478.328125,
          155310.890625,
          159811.359375,
          123091.4921875,
          154441.21875,
          140467.9375,
          157122.375,
          162240.46875,
          171220.78125,
          152030.546875,
          151342.625,
          118370.6171875,
          138531.625,
          123451.5703125,
          136403.328125,
          148047.171875,
          145047.59375,
          156645.546875,
          151702.03125,
          146738.203125,
          167859,
          136902.75,
          149856.59375,
          168556.953125,
          149724.296875,
          146308.03125,
          161956.5625,
          152152.578125,
          162971.859375,
          163312.46875,
          151875.03125,
          160478.578125,
          152741.609375,
          147936.0625,
          142654.140625,
          142612.421875,
          170690.59375,
          144314.125,
          162224.515625,
          151246.59375,
          140772.78125,
          138879.015625,
          135681.9375,
          126474.3359375,
          163031.578125,
          121726.921875,
          161618.984375,
          144231.28125,
          145223.390625,
          147285.09375,
          136332.5,
          149501.984375,
          138157.078125,
          119526.625,
          156665.390625,
          161241.84375,
          135522.078125,
          159232.703125,
          132062.46875,
          134680.53125,
          141922.96875,
          164503.71875,
          135487.296875,
          162195.5625,
          163779.9375,
          135693.453125,
          114973.5625,
          150985.890625,
          126321.390625,
          154261.546875,
          156419.078125,
          136638.21875,
          144288.71875,
          155087.109375,
          146917.921875,
          135749.40625,
          144777.765625,
          138066.4375,
          141447.15625,
          145425.03125,
          149600.75,
          138685.078125,
          147921.921875,
          159107.25,
          162778.59375,
          155090.203125,
          122753.4921875,
          136299.078125,
          142743.65625,
          161837.015625,
          147785.328125,
          154223.25,
          132546.640625,
          143864.890625,
          140575.625,
          160926.3125,
          159007.1875,
          140785.484375,
          125694.3203125,
          154403.609375,
          161997.515625,
          163103.484375,
          114873.84375,
          150596.875,
          144991.8125,
          161220.109375,
          140532.984375,
          129689.8359375,
          134684.765625,
          141622.484375,
          159438.3125,
          160503.25,
          149496.578125,
          131473.421875,
          151756.640625,
          140324.453125,
          122852.5625,
          150435.53125,
          144894.203125,
          141614.0625,
          149812.078125,
          145734.5625,
          158224.578125,
          150245.609375,
          161094.96875,
          162714.546875,
          146210.6875,
          158358.515625,
          156255.015625,
          161095.078125,
          161349.28125,
          155030.609375,
          154868.265625,
          154944.375,
          125935.2890625,
          144210.171875,
          141079.390625,
          165802.46875,
          138311.0625,
          149796.796875,
          152933.1875,
          158760.875,
          152326.921875,
          148528.828125,
          140017.75,
          138701.359375,
          151691.765625,
          142192.1875,
          148003.578125,
          147583.96875,
          135489.359375,
          147562.375,
          151128.625,
          158742.234375
         ],
         "yaxis": "y"
        }
       ],
       "layout": {
        "legend": {
         "tracegroupgap": 0
        },
        "template": {
         "data": {
          "candlestick": [
           {
            "decreasing": {
             "line": {
              "color": "#000033"
             }
            },
            "increasing": {
             "line": {
              "color": "#000032"
             }
            },
            "type": "candlestick"
           }
          ],
          "contour": [
           {
            "colorscale": [
             [
              0,
              "#000011"
             ],
             [
              0.1111111111111111,
              "#000012"
             ],
             [
              0.2222222222222222,
              "#000013"
             ],
             [
              0.3333333333333333,
              "#000014"
             ],
             [
              0.4444444444444444,
              "#000015"
             ],
             [
              0.5555555555555556,
              "#000016"
             ],
             [
              0.6666666666666666,
              "#000017"
             ],
             [
              0.7777777777777778,
              "#000018"
             ],
             [
              0.8888888888888888,
              "#000019"
             ],
             [
              1,
              "#000020"
             ]
            ],
            "type": "contour"
           }
          ],
          "contourcarpet": [
           {
            "colorscale": [
             [
              0,
              "#000011"
             ],
             [
              0.1111111111111111,
              "#000012"
             ],
             [
              0.2222222222222222,
              "#000013"
             ],
             [
              0.3333333333333333,
              "#000014"
             ],
             [
              0.4444444444444444,
              "#000015"
             ],
             [
              0.5555555555555556,
              "#000016"
             ],
             [
              0.6666666666666666,
              "#000017"
             ],
             [
              0.7777777777777778,
              "#000018"
             ],
             [
              0.8888888888888888,
              "#000019"
             ],
             [
              1,
              "#000020"
             ]
            ],
            "type": "contourcarpet"
           }
          ],
          "heatmap": [
           {
            "colorscale": [
             [
              0,
              "#000011"
             ],
             [
              0.1111111111111111,
              "#000012"
             ],
             [
              0.2222222222222222,
              "#000013"
             ],
             [
              0.3333333333333333,
              "#000014"
             ],
             [
              0.4444444444444444,
              "#000015"
             ],
             [
              0.5555555555555556,
              "#000016"
             ],
             [
              0.6666666666666666,
              "#000017"
             ],
             [
              0.7777777777777778,
              "#000018"
             ],
             [
              0.8888888888888888,
              "#000019"
             ],
             [
              1,
              "#000020"
             ]
            ],
            "type": "heatmap"
           }
          ],
          "histogram2d": [
           {
            "colorscale": [
             [
              0,
              "#000011"
             ],
             [
              0.1111111111111111,
              "#000012"
             ],
             [
              0.2222222222222222,
              "#000013"
             ],
             [
              0.3333333333333333,
              "#000014"
             ],
             [
              0.4444444444444444,
              "#000015"
             ],
             [
              0.5555555555555556,
              "#000016"
             ],
             [
              0.6666666666666666,
              "#000017"
             ],
             [
              0.7777777777777778,
              "#000018"
             ],
             [
              0.8888888888888888,
              "#000019"
             ],
             [
              1,
              "#000020"
             ]
            ],
            "type": "histogram2d"
           }
          ],
          "icicle": [
           {
            "textfont": {
             "color": "white"
            },
            "type": "icicle"
           }
          ],
          "sankey": [
           {
            "textfont": {
             "color": "#000036"
            },
            "type": "sankey"
           }
          ],
          "scatter": [
           {
            "marker": {
             "line": {
              "width": 0
             }
            },
            "type": "scatter"
           }
          ],
          "table": [
           {
            "cells": {
             "fill": {
              "color": "#000038"
             },
             "font": {
              "color": "#000037"
             },
             "line": {
              "color": "#000039"
             }
            },
            "header": {
             "fill": {
              "color": "#000040"
             },
             "font": {
              "color": "#000036"
             },
             "line": {
              "color": "#000039"
             }
            },
            "type": "table"
           }
          ],
          "waterfall": [
           {
            "connector": {
             "line": {
              "color": "#000036",
              "width": 2
             }
            },
            "decreasing": {
             "marker": {
              "color": "#000033"
             }
            },
            "increasing": {
             "marker": {
              "color": "#000032"
             }
            },
            "totals": {
             "marker": {
              "color": "#000034"
             }
            },
            "type": "waterfall"
           }
          ]
         },
         "layout": {
          "coloraxis": {
           "colorscale": [
            [
             0,
             "#000011"
            ],
            [
             0.1111111111111111,
             "#000012"
            ],
            [
             0.2222222222222222,
             "#000013"
            ],
            [
             0.3333333333333333,
             "#000014"
            ],
            [
             0.4444444444444444,
             "#000015"
            ],
            [
             0.5555555555555556,
             "#000016"
            ],
            [
             0.6666666666666666,
             "#000017"
            ],
            [
             0.7777777777777778,
             "#000018"
            ],
            [
             0.8888888888888888,
             "#000019"
            ],
            [
             1,
             "#000020"
            ]
           ]
          },
          "colorscale": {
           "diverging": [
            [
             0,
             "#000021"
            ],
            [
             0.1,
             "#000022"
            ],
            [
             0.2,
             "#000023"
            ],
            [
             0.3,
             "#000024"
            ],
            [
             0.4,
             "#000025"
            ],
            [
             0.5,
             "#000026"
            ],
            [
             0.6,
             "#000027"
            ],
            [
             0.7,
             "#000028"
            ],
            [
             0.8,
             "#000029"
            ],
            [
             0.9,
             "#000030"
            ],
            [
             1,
             "#000031"
            ]
           ],
           "sequential": [
            [
             0,
             "#000011"
            ],
            [
             0.1111111111111111,
             "#000012"
            ],
            [
             0.2222222222222222,
             "#000013"
            ],
            [
             0.3333333333333333,
             "#000014"
            ],
            [
             0.4444444444444444,
             "#000015"
            ],
            [
             0.5555555555555556,
             "#000016"
            ],
            [
             0.6666666666666666,
             "#000017"
            ],
            [
             0.7777777777777778,
             "#000018"
            ],
            [
             0.8888888888888888,
             "#000019"
            ],
            [
             1,
             "#000020"
            ]
           ],
           "sequentialminus": [
            [
             0,
             "#000011"
            ],
            [
             0.1111111111111111,
             "#000012"
            ],
            [
             0.2222222222222222,
             "#000013"
            ],
            [
             0.3333333333333333,
             "#000014"
            ],
            [
             0.4444444444444444,
             "#000015"
            ],
            [
             0.5555555555555556,
             "#000016"
            ],
            [
             0.6666666666666666,
             "#000017"
            ],
            [
             0.7777777777777778,
             "#000018"
            ],
            [
             0.8888888888888888,
             "#000019"
            ],
            [
             1,
             "#000020"
            ]
           ]
          },
          "colorway": [
           "#000001",
           "#000002",
           "#000003",
           "#000004",
           "#000005",
           "#000006",
           "#000007",
           "#000008",
           "#000009",
           "#000010"
          ]
         }
        },
        "title": {
         "text": "Valores Reais vs Previstos"
        },
        "xaxis": {
         "anchor": "y",
         "domain": [
          0,
          1
         ],
         "title": {
          "text": "Reais"
         }
        },
        "yaxis": {
         "anchor": "x",
         "domain": [
          0,
          1
         ],
         "title": {
          "text": "Previstos"
         }
        }
       }
      }
     },
     "metadata": {},
     "output_type": "display_data"
    },
    {
     "data": {
      "application/vnd.plotly.v1+json": {
       "config": {
        "plotlyServerURL": "https://plot.ly"
       },
       "data": [
        {
         "alignmentgroup": "True",
         "bingroup": "x",
         "hovertemplate": "variable=0<br>Resíduos=%{x}<br>count=%{y}<extra></extra>",
         "legendgroup": "0",
         "marker": {
          "color": "#000001",
          "pattern": {
           "shape": ""
          }
         },
         "name": "0",
         "nbinsx": 50,
         "offsetgroup": "0",
         "orientation": "v",
         "showlegend": true,
         "type": "histogram",
         "x": [
          53493.046875,
          -5709.3125,
          -28292.46875,
          34322.40625,
          -47966.953125,
          -38022.9375,
          127894.859375,
          604.390625,
          574289.96875,
          5869.40625,
          58894.703125,
          -7524.640625,
          64524.828125,
          -20523.515625,
          -22805.859375,
          5214.578125,
          29574.515625,
          -10900.203125,
          6781.8125,
          13972.515625,
          31862.765625,
          -7943.265625,
          -4472.9453125,
          22591.40625,
          32592.34375,
          22921.65625,
          26101.703125,
          -31530.9453125,
          164076.84375,
          -16115.53125,
          -39705.15625,
          51680.546875,
          5337.46875,
          80363.59375,
          210312.609375,
          25168.171875,
          120447.484375,
          -26409.8125,
          101316.4375,
          160027.015625,
          96556.328125,
          -5575.875,
          10129.953125,
          119607.140625,
          228439.125,
          -29877.859375,
          -2106.34375,
          -6172.640625,
          22200.359375,
          -33648.96875,
          242036.203125,
          9739.703125,
          16659.875,
          -17350.6484375,
          122042.703125,
          -17704.0625,
          -166.1875,
          80179.703125,
          -3952.75,
          -19851.578125,
          -6835.03125,
          -7344.953125,
          -9402.4375,
          30335.609375,
          35002.671875,
          10629.4375,
          -7036.84375,
          76823.59375,
          -8965.828125,
          70317.9375,
          27492.515625,
          -16116.28125,
          -12622.4453125,
          237236.890625,
          -17542.953125,
          89198.984375,
          -3945.359375,
          -49408.4453125,
          155162.390625,
          15853.359375,
          356.421875,
          -10372.78125,
          -18588.15625,
          -1025.796875,
          68629.6875,
          30535.25,
          -31481.515625,
          46025.640625,
          37094.21875,
          -3041.796875,
          40837.40625,
          33248.40625,
          37014.015625,
          42698.421875,
          21764.390625,
          9736.265625,
          54872.125,
          38006.40625,
          -13976.578125,
          19885.25,
          104256.046875,
          66270.09375,
          -13163.5,
          14798.390625,
          -31169.875,
          99030.46875,
          -8096.859375,
          -25333.171875,
          23895.015625,
          -1692.125,
          -39770.6171875,
          -17548.328125,
          35611.671875,
          -20544.203125,
          35842.625,
          8486.203125,
          222529.546875,
          -6475.15625,
          35020.9375,
          105972.671875,
          3435.84375,
          -661.609375,
          -13025.59375,
          21478.328125,
          56468.890625,
          71708.546875,
          259970.234375,
          33416.59375,
          47769.75,
          30046.9375,
          55789.6875,
          40207.03125,
          18873.5546875,
          31206.109375,
          -19272.234375,
          64926.171875,
          -8493.6875,
          20492.796875,
          -25308.625,
          23089.875,
          12604.4375,
          1503.5,
          73267.046875,
          10943.203125,
          -21434.4453125,
          9693.03125,
          47958.984375,
          -4330.71875,
          163092.78125,
          62382.6875,
          27798.71875,
          208866.953125,
          83235.59375,
          12925.40625,
          18011.859375,
          86779.796875,
          -38444.1484375,
          86570.796875,
          17002.421875,
          9036.6875,
          -35384.1875,
          2112.59375,
          46525.34375,
          -7536.71875,
          68703.46875,
          4772.5234375,
          26693.84375,
          95232.90625,
          50493.875,
          22051.390625,
          30652.0625,
          15178.8125,
          38078.59375,
          27042.453125,
          -16746.53125,
          3281.328125,
          -6300.125,
          84600.21875,
          -13327.2734375,
          -8374.796875,
          171336.609375,
          13289.546875,
          -14227.7890625,
          142452.015625,
          -58417.6875,
          25010.34375,
          -32943.53125,
          40334.421875,
          36577.046875,
          1572.734375,
          -5932.78125,
          32620.578125,
          56961.25,
          3055.40625,
          -8663.84375,
          2896.125,
          -51508.546875,
          -1902.9375,
          15169.984375,
          -21902.859375,
          7303.078125,
          38017.71875,
          -14489.046875,
          -1817.6640625,
          27959.765625,
          42932.40625,
          7664.453125,
          149631.890625,
          114362.046875,
          -45929.4375,
          11022.328125,
          101767.6875,
          -17838.390625,
          -9432.734375,
          234928.3125,
          -6466.5,
          -62955.453125,
          142136.5,
          94206.03125,
          -33907.28125,
          32621.359375,
          -34130.828125,
          -14622.15625,
          -7562.734375,
          55151.28125,
          115081.0625,
          63730.6875,
          45111.3125,
          -5375.5625,
          1041.640625,
          -26835.5390625,
          13859.6875,
          -5519.703125,
          -7683.25,
          95321.375,
          -4653.59375,
          -357.71875,
          -20607.65625,
          -15414.3828125,
          3272.84375,
          -23504.5625,
          29378.3125,
          31705.65625,
          58463.59375,
          35290.78125,
          21378.296875,
          45347.4375,
          28659.71875,
          21940.21875,
          36387.578125,
          30870.171875,
          107471.578125,
          -23364.4375,
          279582.8125,
          81289.375,
          55455.15625,
          -13308.3046875,
          16048.015625,
          383180.796875,
          -14839.171875,
          16776.203125,
          -27775.78125,
          -8815.953125,
          -3288.03125,
          231900.5,
          217071.9375,
          182207.40625,
          -50875.8359375,
          104524.03125,
          88823.328125,
          -9630.578125,
          80477.046875,
          8244.984375,
          37895.03125,
          -24287.265625,
          76595.09375,
          24699.40625,
          73747.921875,
          37873.1875,
          -20272.703125,
          4230.140625,
          152022.890625,
          34011.453125,
          662.8125,
          40272.875,
          -2222.90625,
          -23212.921875,
          173400.125,
          392024.421875,
          8578.96875,
          -36075.3984375,
          -24098.9453125,
          158728.046875,
          -22631.359375,
          25393.265625,
          110968.734375,
          41155.28125,
          31386.515625,
          7598.265625,
          11014.421875,
          -43190.109375,
          -6416.46875,
          4688.765625,
          37323.90625,
          2652.90625,
          -5853.765625,
          5709.984375,
          48364.3125,
          23833.328125,
          23665.9375,
          -9733.453125,
          22639.625,
          -2159.90625,
          -19087.234375,
          -14587.5,
          -5795.9375,
          136136.4375,
          -25042.8359375,
          21840.296875,
          1660.7109375,
          -35558.8984375,
          124813.859375,
          -13807.640625,
          43517.609375,
          -2944.234375,
          64286.578125,
          -5711.890625,
          153648.75,
          75815.90625,
          -7973.59375,
          -15243.40625,
          48927.703125,
          67234.03125,
          45204.296875,
          35587.65625,
          -138.578125,
          -13239.5625,
          29100.828125,
          -6462.515625,
          -12506.375,
          212295.0625,
          16022.796875,
          15659.84375,
          55893.34375,
          15694.84375,
          5448.296875,
          -9455.3125,
          -21459.96875,
          -39283.734375,
          -6961.09375,
          73916.640625,
          163350.109375,
          -18756.078125,
          -21206.953125,
          35441.90625,
          304879.515625,
          123054.171875,
          25581.859375,
          80366.609375,
          129473.546875,
          181877.015625,
          21315.625,
          75131.578125,
          79529.46875,
          -33124.734375,
          -34308.40625,
          7260.578125,
          7348.578125,
          40819.3125,
          34057.171875,
          212525.1875,
          -68203.703125,
          -15127.75,
          -12788.1875,
          3295.859375,
          -50579.3671875,
          64356.3125,
          127411.328125,
          -8680.859375,
          105985.859375,
          13845.546875,
          -28298.25,
          4035.234375,
          -8445.25,
          -14541.921875,
          -36178.9375,
          9448.609375,
          35777.796875,
          62672.640625,
          89858.015625,
          -26173.046875,
          -1766.28125,
          86570.125,
          -34461.03125,
          3422.734375,
          21446.390625,
          37776.109375,
          20493.828125,
          11563.265625,
          34100.546875,
          169985.3125,
          46817.296875,
          -4851.6875,
          -44409.75,
          5836.8125,
          116174.703125,
          -21350.109375,
          146836.1875,
          90727.78125,
          83723.359375,
          1222.9296875,
          -7301.171875,
          88591.296875,
          -15788.8125,
          -17643.84375,
          -7365.8125,
          54325.140625,
          -22985.890625,
          172674.84375,
          -13421.96875,
          99169.203125,
          181097.265625,
          -28758.578125,
          3293.265625,
          -9227.578125,
          -27206.6875,
          84744.59375,
          -20796.875,
          36584.390625,
          -8022.203125,
          18621.828125,
          73790.25,
          23355.53125,
          110780.4765625,
          -17393.84375,
          186423.28125,
          68437.796875,
          448140.890625,
          53434.9375,
          20606.921875,
          -1816.5,
          -25235.09375,
          -56247.015625,
          -327.265625,
          -12332.046875,
          10982.6875,
          1962.28125,
          -5105.125,
          79474.140625,
          211252.515625,
          13341.8203125,
          47968.625,
          -3482.390625,
          21596.640625,
          -5794.15625,
          16409.34375,
          -43237.9375,
          -721.3515625,
          90433.765625,
          9657.765625,
          57709.6484375,
          8640.96875,
          17936.625,
          -29136.328125,
          16244.0625,
          -2008.4375,
          56411.734375,
          -27514.359375,
          43099.34375,
          70055.140625,
          27331.671875,
          -13557.765625,
          -16636.5625,
          81825.125,
          -3718.40625,
          -54237.03125,
          6180.109375,
          62095.40625,
          77299.28125,
          50172.515625,
          -20358.78125,
          31520.609375,
          102008.703125,
          4527.21875,
          673.4375,
          69122.0625,
          83649.953125,
          26724.75,
          -8241.625,
          -32175.5,
          116000.25,
          1341.390625,
          34125.328125,
          45662.546875,
          39857.6875,
          12633.09375,
          7116.125,
          32476.390625,
          31871,
          -18044.1875,
          -6624.203125,
          224251.078125,
          -53684.953125,
          3789.0078125,
          96972.15625,
          30530.515625,
          277950.09375,
          80073.390625,
          -25395.75,
          12338.578125,
          15933.578125,
          278923.015625,
          -20206.953125,
          119502.21875,
          12218.1328125,
          10462.390625,
          3073.359375,
          15848.5,
          101518.328125,
          -12893.578125,
          76558.25,
          -10368.828125,
          -2152.859375,
          -1268.828125,
          113155.625,
          -7508.046875,
          5197.0625,
          1564.28125,
          66347.125,
          21766.15625,
          -498.921875,
          -13385.234375,
          9803,
          -28470.6328125,
          40779.671875,
          105773.796875,
          65094.140625,
          6843.671875,
          -600.59375,
          -38932.53125,
          -38915.28125,
          40744.078125,
          156335.296875,
          50486.4375,
          36212.8125,
          170301.21875,
          59914.21875,
          -5105.046875,
          -45553.3671875,
          -7195.53125,
          7258.9375,
          -19678.0625,
          16188.859375,
          33506.296875,
          -33148.4140625,
          -10339.625,
          10634.203125,
          22643.28125,
          3173.28125,
          48994.125,
          -13691.2578125,
          -21631.484375,
          -7706.078125,
          -11197.390625,
          13471.328125,
          115541,
          33767.4375,
          27032.734375,
          2142.796875,
          65632.875,
          5584.46875,
          21543.421875,
          -29150.609375,
          -41960.5625,
          -20777.65625,
          -48149.84375,
          -14478.328125,
          39689.109375,
          150188.640625,
          -37091.4921875,
          55558.78125,
          -3567.9375,
          31877.625,
          62659.53125,
          453779.21875,
          27969.453125,
          137657.375,
          -26370.6171875,
          -28031.625,
          -20675.5703125,
          -26503.328125,
          102532.828125,
          19952.40625,
          22954.453125,
          88297.96875,
          -6738.203125,
          149141,
          -4902.75,
          15643.40625,
          121443.046875,
          228775.703125,
          12591.96875,
          90043.4375,
          27847.421875,
          85028.140625,
          133687.53125,
          8074.96875,
          13521.421875,
          182258.390625,
          102063.9375,
          10682.859375,
          8387.578125,
          165309.40625,
          -18814.125,
          97775.484375,
          10503.40625,
          7227.21875,
          -879.015625,
          -15681.9375,
          1525.6640625,
          66968.421875,
          -81726.921875,
          156381.015625,
          3768.71875,
          8676.609375,
          17714.90625,
          8667.5,
          75498.015625,
          -21157.078125,
          -46526.625,
          21334.609375,
          118258.15625,
          -33522.078125,
          967.296875,
          -4062.46875,
          2819.46875,
          15577.03125,
          160496.28125,
          -55587.296875,
          112104.4375,
          20970.0625,
          -793.453125,
          -80073.5625,
          84142.109375,
          23678.609375,
          19238.453125,
          33580.921875,
          -19638.21875,
          1711.28125,
          3912.890625,
          26082.078125,
          -10749.40625,
          94222.234375,
          5833.5625,
          -31447.15625,
          169574.96875,
          23184.25,
          -18185.078125,
          -17921.921875,
          67892.75,
          97221.40625,
          27909.796875,
          -27753.4921875,
          119700.921875,
          -17743.65625,
          27162.984375,
          39214.671875,
          78376.75,
          -5046.640625,
          3635.109375,
          -2575.625,
          40873.6875,
          78992.8125,
          -14285.484375,
          -694.3203125,
          51596.390625,
          119215.484375,
          97296.515625,
          -27873.84375,
          28603.125,
          12008.1875,
          96779.890625,
          -18532.984375,
          -48689.8359375,
          -19684.765625,
          3377.515625,
          -12438.3125,
          234688.75,
          7503.421875,
          8526.578125,
          75923.359375,
          -6824.453125,
          -27852.5625,
          34564.46875,
          15105.796875,
          -21614.0625,
          3187.921875,
          1265.4375,
          45775.421875,
          64954.390625,
          93805.03125,
          92785.453125,
          8789.3125,
          111431.484375,
          3639.984375,
          395485.921875,
          74650.71875,
          30469.390625,
          46131.734375,
          24955.625,
          -57535.2890625,
          26789.828125,
          9820.609375,
          236197.53125,
          4688.9375,
          37703.203125,
          37066.8125,
          43739.125,
          45573.078125,
          -18528.828125,
          -50517.75,
          61398.640625,
          87308.234375,
          12307.8125,
          44996.421875,
          2416.03125,
          2010.640625,
          -162.375,
          56371.375,
          134334.765625
         ],
         "xaxis": "x",
         "yaxis": "y"
        }
       ],
       "layout": {
        "barmode": "relative",
        "legend": {
         "title": {
          "text": "variable"
         },
         "tracegroupgap": 0
        },
        "template": {
         "data": {
          "candlestick": [
           {
            "decreasing": {
             "line": {
              "color": "#000033"
             }
            },
            "increasing": {
             "line": {
              "color": "#000032"
             }
            },
            "type": "candlestick"
           }
          ],
          "contour": [
           {
            "colorscale": [
             [
              0,
              "#000011"
             ],
             [
              0.1111111111111111,
              "#000012"
             ],
             [
              0.2222222222222222,
              "#000013"
             ],
             [
              0.3333333333333333,
              "#000014"
             ],
             [
              0.4444444444444444,
              "#000015"
             ],
             [
              0.5555555555555556,
              "#000016"
             ],
             [
              0.6666666666666666,
              "#000017"
             ],
             [
              0.7777777777777778,
              "#000018"
             ],
             [
              0.8888888888888888,
              "#000019"
             ],
             [
              1,
              "#000020"
             ]
            ],
            "type": "contour"
           }
          ],
          "contourcarpet": [
           {
            "colorscale": [
             [
              0,
              "#000011"
             ],
             [
              0.1111111111111111,
              "#000012"
             ],
             [
              0.2222222222222222,
              "#000013"
             ],
             [
              0.3333333333333333,
              "#000014"
             ],
             [
              0.4444444444444444,
              "#000015"
             ],
             [
              0.5555555555555556,
              "#000016"
             ],
             [
              0.6666666666666666,
              "#000017"
             ],
             [
              0.7777777777777778,
              "#000018"
             ],
             [
              0.8888888888888888,
              "#000019"
             ],
             [
              1,
              "#000020"
             ]
            ],
            "type": "contourcarpet"
           }
          ],
          "heatmap": [
           {
            "colorscale": [
             [
              0,
              "#000011"
             ],
             [
              0.1111111111111111,
              "#000012"
             ],
             [
              0.2222222222222222,
              "#000013"
             ],
             [
              0.3333333333333333,
              "#000014"
             ],
             [
              0.4444444444444444,
              "#000015"
             ],
             [
              0.5555555555555556,
              "#000016"
             ],
             [
              0.6666666666666666,
              "#000017"
             ],
             [
              0.7777777777777778,
              "#000018"
             ],
             [
              0.8888888888888888,
              "#000019"
             ],
             [
              1,
              "#000020"
             ]
            ],
            "type": "heatmap"
           }
          ],
          "histogram2d": [
           {
            "colorscale": [
             [
              0,
              "#000011"
             ],
             [
              0.1111111111111111,
              "#000012"
             ],
             [
              0.2222222222222222,
              "#000013"
             ],
             [
              0.3333333333333333,
              "#000014"
             ],
             [
              0.4444444444444444,
              "#000015"
             ],
             [
              0.5555555555555556,
              "#000016"
             ],
             [
              0.6666666666666666,
              "#000017"
             ],
             [
              0.7777777777777778,
              "#000018"
             ],
             [
              0.8888888888888888,
              "#000019"
             ],
             [
              1,
              "#000020"
             ]
            ],
            "type": "histogram2d"
           }
          ],
          "icicle": [
           {
            "textfont": {
             "color": "white"
            },
            "type": "icicle"
           }
          ],
          "sankey": [
           {
            "textfont": {
             "color": "#000036"
            },
            "type": "sankey"
           }
          ],
          "scatter": [
           {
            "marker": {
             "line": {
              "width": 0
             }
            },
            "type": "scatter"
           }
          ],
          "table": [
           {
            "cells": {
             "fill": {
              "color": "#000038"
             },
             "font": {
              "color": "#000037"
             },
             "line": {
              "color": "#000039"
             }
            },
            "header": {
             "fill": {
              "color": "#000040"
             },
             "font": {
              "color": "#000036"
             },
             "line": {
              "color": "#000039"
             }
            },
            "type": "table"
           }
          ],
          "waterfall": [
           {
            "connector": {
             "line": {
              "color": "#000036",
              "width": 2
             }
            },
            "decreasing": {
             "marker": {
              "color": "#000033"
             }
            },
            "increasing": {
             "marker": {
              "color": "#000032"
             }
            },
            "totals": {
             "marker": {
              "color": "#000034"
             }
            },
            "type": "waterfall"
           }
          ]
         },
         "layout": {
          "coloraxis": {
           "colorscale": [
            [
             0,
             "#000011"
            ],
            [
             0.1111111111111111,
             "#000012"
            ],
            [
             0.2222222222222222,
             "#000013"
            ],
            [
             0.3333333333333333,
             "#000014"
            ],
            [
             0.4444444444444444,
             "#000015"
            ],
            [
             0.5555555555555556,
             "#000016"
            ],
            [
             0.6666666666666666,
             "#000017"
            ],
            [
             0.7777777777777778,
             "#000018"
            ],
            [
             0.8888888888888888,
             "#000019"
            ],
            [
             1,
             "#000020"
            ]
           ]
          },
          "colorscale": {
           "diverging": [
            [
             0,
             "#000021"
            ],
            [
             0.1,
             "#000022"
            ],
            [
             0.2,
             "#000023"
            ],
            [
             0.3,
             "#000024"
            ],
            [
             0.4,
             "#000025"
            ],
            [
             0.5,
             "#000026"
            ],
            [
             0.6,
             "#000027"
            ],
            [
             0.7,
             "#000028"
            ],
            [
             0.8,
             "#000029"
            ],
            [
             0.9,
             "#000030"
            ],
            [
             1,
             "#000031"
            ]
           ],
           "sequential": [
            [
             0,
             "#000011"
            ],
            [
             0.1111111111111111,
             "#000012"
            ],
            [
             0.2222222222222222,
             "#000013"
            ],
            [
             0.3333333333333333,
             "#000014"
            ],
            [
             0.4444444444444444,
             "#000015"
            ],
            [
             0.5555555555555556,
             "#000016"
            ],
            [
             0.6666666666666666,
             "#000017"
            ],
            [
             0.7777777777777778,
             "#000018"
            ],
            [
             0.8888888888888888,
             "#000019"
            ],
            [
             1,
             "#000020"
            ]
           ],
           "sequentialminus": [
            [
             0,
             "#000011"
            ],
            [
             0.1111111111111111,
             "#000012"
            ],
            [
             0.2222222222222222,
             "#000013"
            ],
            [
             0.3333333333333333,
             "#000014"
            ],
            [
             0.4444444444444444,
             "#000015"
            ],
            [
             0.5555555555555556,
             "#000016"
            ],
            [
             0.6666666666666666,
             "#000017"
            ],
            [
             0.7777777777777778,
             "#000018"
            ],
            [
             0.8888888888888888,
             "#000019"
            ],
            [
             1,
             "#000020"
            ]
           ]
          },
          "colorway": [
           "#000001",
           "#000002",
           "#000003",
           "#000004",
           "#000005",
           "#000006",
           "#000007",
           "#000008",
           "#000009",
           "#000010"
          ]
         }
        },
        "title": {
         "text": "Distribuição dos Resíduos"
        },
        "xaxis": {
         "anchor": "y",
         "domain": [
          0,
          1
         ],
         "title": {
          "text": "Resíduos"
         }
        },
        "yaxis": {
         "anchor": "x",
         "domain": [
          0,
          1
         ],
         "title": {
          "text": "count"
         }
        }
       }
      }
     },
     "metadata": {},
     "output_type": "display_data"
    }
   ],
   "source": [
    "# Geração de previsões\n",
    "p_val = mdl.predict(Xval).squeeze()\n",
    "\n",
    "# Gráfico de valores reais vs previstos\n",
    "comparacao = pd.DataFrame({\"Reais\": yval, \"Previstos\": p_val})\n",
    "fig2 = px.scatter(\n",
    "    comparacao,\n",
    "    x=\"Reais\",\n",
    "    y=\"Previstos\",\n",
    "    title=\"Valores Reais vs Previstos\",\n",
    "    labels={\"x\": \"Valores Reais\", \"y\": \"Valores Previstos\"}\n",
    ")\n",
    "fig2.show()\n",
    "\n",
    "# Gráfico de resíduos\n",
    "residuos = yval - p_val\n",
    "fig3 = px.histogram(\n",
    "    residuos,\n",
    "    nbins=50,\n",
    "    title=\"Distribuição dos Resíduos\",\n",
    "    labels={\"value\": \"Resíduos\", \"count\": \"Frequência\"}\n",
    ")\n",
    "fig3.show()\n"
   ]
  },
  {
   "cell_type": "markdown",
   "metadata": {},
   "source": [
    "## Exportação de Previsões"
   ]
  },
  {
   "cell_type": "code",
   "execution_count": 25,
   "metadata": {},
   "outputs": [
    {
     "name": "stdout",
     "output_type": "stream",
     "text": [
      "\u001b[1m46/46\u001b[0m \u001b[32m━━━━━━━━━━━━━━━━━━━━\u001b[0m\u001b[37m\u001b[0m \u001b[1m0s\u001b[0m 643us/step\n",
      "Previsões salvas no arquivo previsoes.csv\n"
     ]
    }
   ],
   "source": [
    "# Previsão para dados de teste\n",
    "teste1 = teste_num.drop([\"Id\", \"SalePrice\"], axis=1)\n",
    "teste = scaler.transform(imputer.transform(teste1))\n",
    "p_teste = mdl.predict(teste).squeeze()\n",
    "\n",
    "# Salvar previsões em CSV\n",
    "resultados = pd.DataFrame({\"Id\": dados_teste[\"Id\"], \"SalePrice\": p_teste})\n",
    "resultados.to_csv(\"previsoes.csv\", index=False)\n",
    "print(\"Previsões salvas no arquivo previsoes.csv\")\n"
   ]
  }
 ],
 "metadata": {
  "kernelspec": {
   "display_name": "Python 3",
   "language": "python",
   "name": "python3"
  },
  "language_info": {
   "codemirror_mode": {
    "name": "ipython",
    "version": 3
   },
   "file_extension": ".py",
   "mimetype": "text/x-python",
   "name": "python",
   "nbconvert_exporter": "python",
   "pygments_lexer": "ipython3",
   "version": "3.11.6"
  }
 },
 "nbformat": 4,
 "nbformat_minor": 2
}
